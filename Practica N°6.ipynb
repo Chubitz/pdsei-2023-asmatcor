{
 "cells": [
  {
   "cell_type": "markdown",
   "metadata": {
    "id": "l3PvV_WVz4S8"
   },
   "source": [
    "**ESCUELA DE INGENIERÍA MECATRÓNICA**\n",
    "\n",
    "## `PROCESAMIENTO DIGITAL DE SEÑALES E IMÁGENES`\n",
    "\n",
    "### `Docente: Ms. Ing. Emerson Maximo Asto Rodriguez`\n",
    "\n",
    "```\n",
    "Práctica 6: Procesamiento en el dominio del espacio \n",
    "```"
   ]
  },
  {
   "cell_type": "markdown",
   "metadata": {
    "id": "KpJ-wYnOz4TB"
   },
   "source": [
    "### 1. Implemente el siguiente algoritmo en un entorno local de OpenCV.\n"
   ]
  },
  {
   "cell_type": "code",
   "execution_count": 1,
   "metadata": {
    "ExecuteTime": {
     "end_time": "2023-12-11T03:52:05.155540Z",
     "start_time": "2023-12-11T03:52:04.774215Z"
    },
    "id": "x3kfJcdCz4TC"
   },
   "outputs": [],
   "source": [
    "import numpy as np\n",
    "import matplotlib.pyplot as plt\n",
    "import cv2"
   ]
  },
  {
   "cell_type": "code",
   "execution_count": 8,
   "metadata": {
    "ExecuteTime": {
     "end_time": "2021-08-06T14:54:06.173131Z",
     "start_time": "2021-08-06T14:54:06.137279Z"
    },
    "id": "O5Y5cW2Wz4TE"
   },
   "outputs": [],
   "source": [
    "slider_max = 100\n",
    "title_window = 'Brillo'\n",
    "\n",
    "def on_trackbar(val):\n",
    "    dst = src1 + val/255\n",
    "    cv2.imshow(title_window, dst)\n",
    "\n",
    "src1 = cv2.imread(\"barbara.jpg\")/255\n",
    "\n",
    "try:\n",
    "    cv2.namedWindow(title_window)\n",
    "    trackbar_name = f\"Brilo {slider_max}\"\n",
    "    cv2.createTrackbar(trackbar_name, title_window, 0, slider_max, on_trackbar)\n",
    "    on_trackbar(0)\n",
    "\n",
    "    while True:\n",
    "        key = cv2.waitKey(1)\n",
    "        if key != -1:\n",
    "            break\n",
    "    cv2.destroyAllWindows()\n",
    "except:\n",
    "    cv2.destroyAllWindows()"
   ]
  },
  {
   "cell_type": "markdown",
   "metadata": {
    "id": "O8ijKszoz4TG"
   },
   "source": [
    "### 2.- Implemente un algoritmo que le permita tener un slider para controlar el nivel de suavizado de una imagen. El slider controlara el tamaño del filtro espacial que se aplicará. Y debe poderse seleccionar si se desea un filtro promedio.\n"
   ]
  },
  {
   "cell_type": "code",
   "execution_count": null,
   "metadata": {},
   "outputs": [],
   "source": [
    "from scipy import signal\n",
    "\n",
    "slider_max = 10\n",
    "title_window = 'Suavizado'\n",
    "\n",
    "def filtro_promedio(val):\n",
    "    kernel_size = 2 * val + 1\n",
    "    kernel = np.ones((kernel_size, kernel_size)) / (kernel_size ** 2)\n",
    "    out = signal.convolve2d(src1, kernel, mode=\"same\")\n",
    "    cv2.imshow(title_window, out)\n",
    "\n",
    "src1 = cv2.imread(\"barbara.jpg\")[:,:,1] / 255\n",
    "\n",
    "\n",
    "cv2.namedWindow(title_window)\n",
    "cv2.createTrackbar('Nivel', title_window, 0, slider_max, filtro_promedio)\n",
    "filtro_promedio(0)\n",
    "try:\n",
    "    while True:\n",
    "        key = cv2.waitKey(1)\n",
    "        if key != -1:\n",
    "            break\n",
    "    cv2.destroyAllWindows()\n",
    "\n",
    "except:\n",
    "    cv2.destroyAllWindows()\n"
   ]
  },
  {
   "cell_type": "markdown",
   "metadata": {
    "id": "LrRVG9pdz4TJ"
   },
   "source": [
    "### 3.- Implemente un algoritmo que le permita modificar la ganancia de un filtro de alto aumento. Si el slider es 0 debe verse el laplaciano, si es 1, la imagen debe quedar enfatizada. Si es mayor que 1 adicionalmente al enfatizado, la imagen debe tener más brillo.\n",
    "\n"
   ]
  },
  {
   "cell_type": "code",
   "execution_count": 5,
   "metadata": {},
   "outputs": [],
   "source": [
    "from scipy import signal\n",
    "\n",
    "slider_max = 10\n",
    "title_window = 'Suavizado'\n",
    "\n",
    "def filtro_aumento(val):\n",
    "    \n",
    "    kernel = np.array([[-1,-1,-1], [-1,val+8,-1], [-1,-1,-1]])\n",
    "    out = signal.convolve2d(src1, kernel, mode=\"same\")\n",
    "    cv2.imshow(title_window, out)\n",
    "\n",
    "src1 = cv2.imread(\"barbara.jpg\")[:,:,1] / 255\n",
    "\n",
    "\n",
    "cv2.namedWindow(title_window)\n",
    "cv2.createTrackbar('Nivel', title_window, 0, slider_max, filtro_aumento)\n",
    "filtro_aumento(0)\n",
    "try:\n",
    "    while True:\n",
    "        key = cv2.waitKey(1)\n",
    "        if key != -1:\n",
    "            break\n",
    "    cv2.destroyAllWindows()\n",
    "\n",
    "except:\n",
    "    cv2.destroyAllWindows()"
   ]
  }
 ],
 "metadata": {
  "colab": {
   "name": "Practica 07A - Procesamiento de imagenes en el dominio del espacio.ipynb",
   "provenance": []
  },
  "kernelspec": {
   "display_name": "Python 3",
   "language": "python",
   "name": "python3"
  },
  "language_info": {
   "codemirror_mode": {
    "name": "ipython",
    "version": 3
   },
   "file_extension": ".py",
   "mimetype": "text/x-python",
   "name": "python",
   "nbconvert_exporter": "python",
   "pygments_lexer": "ipython3",
   "version": "3.6.6"
  },
  "varInspector": {
   "cols": {
    "lenName": 16,
    "lenType": 16,
    "lenVar": 40
   },
   "kernels_config": {
    "python": {
     "delete_cmd_postfix": "",
     "delete_cmd_prefix": "del ",
     "library": "var_list.py",
     "varRefreshCmd": "print(var_dic_list())"
    },
    "r": {
     "delete_cmd_postfix": ") ",
     "delete_cmd_prefix": "rm(",
     "library": "var_list.r",
     "varRefreshCmd": "cat(var_dic_list()) "
    }
   },
   "types_to_exclude": [
    "module",
    "function",
    "builtin_function_or_method",
    "instance",
    "_Feature"
   ],
   "window_display": false
  }
 },
 "nbformat": 4,
 "nbformat_minor": 1
}
