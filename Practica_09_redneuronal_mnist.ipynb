{
 "cells": [
  {
   "cell_type": "markdown",
   "metadata": {},
   "source": [
    "**ESCUELA DE INGENIERÍA MECATRÓNICA**\n",
    "\n",
    "## `PROCESAMIENTO DIGITAL DE SEÑALES E IMÁGENES`\n",
    "\n",
    "### `Docente: Ms. Ing. Emerson Maximo Asto Rodriguez`\n",
    "\n",
    "###  Alumnos: \n",
    "    Asmat Córdova Fernando José\n",
    "    Gonzales Leiva Diego André\n",
    "    Herrera Hurtado Jose Ernesto\n",
    "    \n",
    "### Práctica: MNIST in Keras\n"
   ]
  },
  {
   "cell_type": "markdown",
   "metadata": {},
   "source": [
    "### 1. ANN MNIST\n"
   ]
  },
  {
   "cell_type": "code",
   "execution_count": 1,
   "metadata": {},
   "outputs": [
    {
     "name": "stdout",
     "output_type": "stream",
     "text": [
      "WARNING:tensorflow:From C:\\Users\\COMPUTER\\AppData\\Roaming\\Python\\Python311\\site-packages\\keras\\src\\losses.py:2976: The name tf.losses.sparse_softmax_cross_entropy is deprecated. Please use tf.compat.v1.losses.sparse_softmax_cross_entropy instead.\n",
      "\n"
     ]
    }
   ],
   "source": [
    "import numpy as np                   # advanced math library\n",
    "import matplotlib.pyplot as plt      # MATLAB like plotting routines\n",
    "import random                        # for generating random numbers\n",
    "import keras\n",
    "\n",
    "from keras.datasets import mnist     # MNIST dataset is included in Keras\n",
    "from keras.models import Sequential  # Model type to be used\n",
    "\n",
    "from keras.layers import Dense, Dropout, Activation # Types of layers to be used in our model\n",
    "from keras.utils import to_categorical              # NumPy related tools"
   ]
  },
  {
   "cell_type": "markdown",
   "metadata": {},
   "source": [
    "#### Division de base de datos"
   ]
  },
  {
   "cell_type": "code",
   "execution_count": 2,
   "metadata": {},
   "outputs": [
    {
     "name": "stdout",
     "output_type": "stream",
     "text": [
      "Downloading data from https://storage.googleapis.com/tensorflow/tf-keras-datasets/mnist.npz\n",
      "11490434/11490434 [==============================] - 1s 0us/step\n",
      "X_train shape (60000, 28, 28)\n",
      "y_train shape (60000,)\n",
      "X_test shape (10000, 28, 28)\n",
      "y_test shape (10000,)\n"
     ]
    }
   ],
   "source": [
    "# The MNIST data is split between 60,000 28 x 28 pixel training images and 10,000 28 x 28 pixel images\n",
    "(X_train, y_train), (X_test, y_test) = mnist.load_data()\n",
    "\n",
    "print(\"X_train shape\", X_train.shape)\n",
    "print(\"y_train shape\", y_train.shape)\n",
    "print(\"X_test shape\", X_test.shape)\n",
    "print(\"y_test shape\", y_test.shape)"
   ]
  },
  {
   "cell_type": "markdown",
   "metadata": {},
   "source": [
    "#### Aplanamiento y normalizacion de las imagenes"
   ]
  },
  {
   "cell_type": "code",
   "execution_count": 3,
   "metadata": {},
   "outputs": [
    {
     "name": "stdout",
     "output_type": "stream",
     "text": [
      "Training matrix shape (60000, 784)\n",
      "Testing matrix shape (10000, 784)\n"
     ]
    }
   ],
   "source": [
    "X_train = X_train.reshape(60000, 784) # reshape 60,000 28 x 28 matrices into 60,000 784-length vectors.\n",
    "X_test = X_test.reshape(10000, 784)   # reshape 10,000 28 x 28 matrices into 10,000 784-length vectors.\n",
    "\n",
    "X_train = X_train.astype('float32')   # change integers to 32-bit floating point numbers\n",
    "X_test = X_test.astype('float32')\n",
    "\n",
    "X_train /= 255                        # normalize each value for each pixel for the entire vector for each input\n",
    "X_test /= 255\n",
    "\n",
    "print(\"Training matrix shape\", X_train.shape)\n",
    "print(\"Testing matrix shape\", X_test.shape)"
   ]
  },
  {
   "cell_type": "markdown",
   "metadata": {},
   "source": [
    "#### Convirtiendo salidas a formato onehot"
   ]
  },
  {
   "cell_type": "code",
   "execution_count": 4,
   "metadata": {},
   "outputs": [
    {
     "data": {
      "text/plain": [
       "array([[0., 0., 0., ..., 1., 0., 0.],\n",
       "       [0., 0., 1., ..., 0., 0., 0.],\n",
       "       [0., 1., 0., ..., 0., 0., 0.],\n",
       "       ...,\n",
       "       [0., 0., 0., ..., 0., 0., 0.],\n",
       "       [0., 0., 0., ..., 0., 0., 0.],\n",
       "       [0., 0., 0., ..., 0., 0., 0.]], dtype=float32)"
      ]
     },
     "execution_count": 4,
     "metadata": {},
     "output_type": "execute_result"
    }
   ],
   "source": [
    "nb_classes = 10 # number of unique digits\n",
    "\n",
    "Y_train = to_categorical(y_train, nb_classes)\n",
    "Y_test = to_categorical(y_test, nb_classes)\n",
    "Y_train\n",
    "Y_test"
   ]
  },
  {
   "cell_type": "markdown",
   "metadata": {},
   "source": [
    "#### Construyendo la red neuronal"
   ]
  },
  {
   "cell_type": "code",
   "execution_count": 5,
   "metadata": {},
   "outputs": [
    {
     "name": "stdout",
     "output_type": "stream",
     "text": [
      "WARNING:tensorflow:From C:\\Users\\COMPUTER\\AppData\\Roaming\\Python\\Python311\\site-packages\\keras\\src\\backend.py:873: The name tf.get_default_graph is deprecated. Please use tf.compat.v1.get_default_graph instead.\n",
      "\n",
      "Model: \"sequential\"\n",
      "_________________________________________________________________\n",
      " Layer (type)                Output Shape              Param #   \n",
      "=================================================================\n",
      " dense (Dense)               (None, 256)               200960    \n",
      "                                                                 \n",
      " activation (Activation)     (None, 256)               0         \n",
      "                                                                 \n",
      " dropout (Dropout)           (None, 256)               0         \n",
      "                                                                 \n",
      " dense_1 (Dense)             (None, 256)               65792     \n",
      "                                                                 \n",
      " activation_1 (Activation)   (None, 256)               0         \n",
      "                                                                 \n",
      " dropout_1 (Dropout)         (None, 256)               0         \n",
      "                                                                 \n",
      " dense_2 (Dense)             (None, 256)               65792     \n",
      "                                                                 \n",
      " activation_2 (Activation)   (None, 256)               0         \n",
      "                                                                 \n",
      " dropout_2 (Dropout)         (None, 256)               0         \n",
      "                                                                 \n",
      " dense_3 (Dense)             (None, 256)               65792     \n",
      "                                                                 \n",
      " activation_3 (Activation)   (None, 256)               0         \n",
      "                                                                 \n",
      " dropout_3 (Dropout)         (None, 256)               0         \n",
      "                                                                 \n",
      " dense_4 (Dense)             (None, 256)               65792     \n",
      "                                                                 \n",
      " activation_4 (Activation)   (None, 256)               0         \n",
      "                                                                 \n",
      " dropout_4 (Dropout)         (None, 256)               0         \n",
      "                                                                 \n",
      " dense_5 (Dense)             (None, 10)                2570      \n",
      "                                                                 \n",
      " activation_5 (Activation)   (None, 10)                0         \n",
      "                                                                 \n",
      "=================================================================\n",
      "Total params: 466698 (1.78 MB)\n",
      "Trainable params: 466698 (1.78 MB)\n",
      "Non-trainable params: 0 (0.00 Byte)\n",
      "_________________________________________________________________\n"
     ]
    }
   ],
   "source": [
    "model = Sequential()\n",
    "\n",
    "model.add(Dense(256, input_shape=(784,))) #(784,) is not a typo -- that represents a 784 length vector!\n",
    "model.add(Activation('relu'))\n",
    "model.add(Dropout(0.3))\n",
    "\n",
    "model.add(Dense(256))\n",
    "model.add(Activation('relu'))\n",
    "model.add(Dropout(0.3))\n",
    "\n",
    "model.add(Dense(256))\n",
    "model.add(Activation('relu'))\n",
    "model.add(Dropout(0.3))\n",
    "\n",
    "model.add(Dense(256))\n",
    "model.add(Activation('relu'))\n",
    "model.add(Dropout(0.3))\n",
    "\n",
    "model.add(Dense(256))\n",
    "model.add(Activation('relu'))\n",
    "model.add(Dropout(0.3))\n",
    "\n",
    "model.add(Dense(10))\n",
    "model.add(Activation('softmax'))\n",
    "\n",
    "model.summary()"
   ]
  },
  {
   "cell_type": "markdown",
   "metadata": {},
   "source": [
    "#### Compilacion del modelo"
   ]
  },
  {
   "cell_type": "code",
   "execution_count": 10,
   "metadata": {},
   "outputs": [],
   "source": [
    "model.compile(loss='categorical_crossentropy',\n",
    "              optimizer=keras.optimizers.Adam(learning_rate=0.001),\n",
    "              metrics=['accuracy'])"
   ]
  },
  {
   "cell_type": "markdown",
   "metadata": {},
   "source": [
    "#### Entrenando el modelo"
   ]
  },
  {
   "cell_type": "code",
   "execution_count": 11,
   "metadata": {},
   "outputs": [
    {
     "name": "stdout",
     "output_type": "stream",
     "text": [
      "Epoch 1/15\n",
      "422/422 [==============================] - 4s 8ms/step - loss: 0.4205 - accuracy: 0.8712 - val_loss: 0.1224 - val_accuracy: 0.9643\n",
      "Epoch 2/15\n",
      "422/422 [==============================] - 3s 7ms/step - loss: 0.2020 - accuracy: 0.9431 - val_loss: 0.0937 - val_accuracy: 0.9728\n",
      "Epoch 3/15\n",
      "422/422 [==============================] - 3s 7ms/step - loss: 0.1614 - accuracy: 0.9559 - val_loss: 0.0827 - val_accuracy: 0.9765\n",
      "Epoch 4/15\n",
      "422/422 [==============================] - 3s 7ms/step - loss: 0.1336 - accuracy: 0.9623 - val_loss: 0.0831 - val_accuracy: 0.9757\n",
      "Epoch 5/15\n",
      "422/422 [==============================] - 3s 7ms/step - loss: 0.1170 - accuracy: 0.9661 - val_loss: 0.0745 - val_accuracy: 0.9787\n",
      "Epoch 6/15\n",
      "422/422 [==============================] - 3s 6ms/step - loss: 0.1055 - accuracy: 0.9704 - val_loss: 0.0701 - val_accuracy: 0.9802\n",
      "Epoch 7/15\n",
      "422/422 [==============================] - 3s 7ms/step - loss: 0.0946 - accuracy: 0.9741 - val_loss: 0.0642 - val_accuracy: 0.9813\n",
      "Epoch 8/15\n",
      "422/422 [==============================] - 3s 7ms/step - loss: 0.0889 - accuracy: 0.9745 - val_loss: 0.0660 - val_accuracy: 0.9807\n",
      "Epoch 9/15\n",
      "422/422 [==============================] - 3s 7ms/step - loss: 0.0849 - accuracy: 0.9761 - val_loss: 0.0694 - val_accuracy: 0.9812\n",
      "Epoch 10/15\n",
      "422/422 [==============================] - 3s 7ms/step - loss: 0.0789 - accuracy: 0.9778 - val_loss: 0.0654 - val_accuracy: 0.9818\n",
      "Epoch 11/15\n",
      "422/422 [==============================] - 3s 7ms/step - loss: 0.0734 - accuracy: 0.9790 - val_loss: 0.0659 - val_accuracy: 0.9820\n",
      "Epoch 12/15\n",
      "422/422 [==============================] - 3s 6ms/step - loss: 0.0705 - accuracy: 0.9804 - val_loss: 0.0646 - val_accuracy: 0.9842\n",
      "Epoch 13/15\n",
      "422/422 [==============================] - 3s 6ms/step - loss: 0.0661 - accuracy: 0.9818 - val_loss: 0.0760 - val_accuracy: 0.9807\n",
      "Epoch 14/15\n",
      "422/422 [==============================] - 3s 7ms/step - loss: 0.0664 - accuracy: 0.9820 - val_loss: 0.0694 - val_accuracy: 0.9837\n",
      "Epoch 15/15\n",
      "422/422 [==============================] - 3s 7ms/step - loss: 0.0582 - accuracy: 0.9835 - val_loss: 0.0692 - val_accuracy: 0.9822\n"
     ]
    }
   ],
   "source": [
    "history = model.fit(X_train, Y_train,\n",
    "          batch_size=128,\n",
    "          epochs=15,\n",
    "          verbose=1,\n",
    "          validation_split=0.1)"
   ]
  },
  {
   "cell_type": "markdown",
   "metadata": {},
   "source": [
    "#### Graficas del entrenamiento"
   ]
  },
  {
   "cell_type": "code",
   "execution_count": 12,
   "metadata": {},
   "outputs": [
    {
     "data": {
      "image/png": "[encoded data removed]",
      "text/plain": [
       "<Figure size 1200x600 with 2 Axes>"
      ]
     },
     "metadata": {},
     "output_type": "display_data"
    }
   ],
   "source": [
    "loss = history.history['loss']\n",
    "acc = history.history['accuracy']\n",
    "val_loss = history.history['val_loss']\n",
    "val_acc = history.history['val_accuracy']\n",
    "epochs = range(len(loss))\n",
    "\n",
    "f, axarr = plt.subplots(1, 2, figsize=(12, 6))\n",
    "p0 = axarr[0]\n",
    "p1 = axarr[1]\n",
    "\n",
    "p0.set_title(\"Entrenamiento y validación - Pérdidas (loss)\")\n",
    "p0.set_xlabel('Épocas')\n",
    "p1.set_title(\"Entrenamiento y validación - Exactitud (accuracy)\")\n",
    "p1.set_xlabel('Épocas')\n",
    "\n",
    "p0l0 = p0.plot(epochs, loss, \"-b\", label=\"Pérdidas de entrenamiento\")\n",
    "p0l1 = p0.plot( epochs, val_loss, \"-r\", label=\"Pérdidas de validación\")\n",
    "\n",
    "p1l0 = p1.plot(epochs, acc, \"-b\", label=\"Exactitud de entrenamiento\")\n",
    "p1l1 = p1.plot(epochs, val_acc, \"-r\", label=\"Exactitud de validación\")\n",
    "\n",
    "legend0 = p0.legend()\n",
    "legend1 = p1.legend()"
   ]
  },
  {
   "cell_type": "markdown",
   "metadata": {},
   "source": [
    "#### Precisión sobre la data de testeo"
   ]
  },
  {
   "cell_type": "code",
   "execution_count": 13,
   "metadata": {},
   "outputs": [
    {
     "name": "stdout",
     "output_type": "stream",
     "text": [
      "313/313 [==============================] - 0s 1ms/step - loss: 0.0849 - accuracy: 0.9792\n",
      "Test score: 0.08489862084388733\n",
      "Test accuracy: 0.979200005531311\n"
     ]
    }
   ],
   "source": [
    "score = model.evaluate(X_test, Y_test)\n",
    "print('Test score:', score[0])\n",
    "print('Test accuracy:', score[1])"
   ]
  },
  {
   "cell_type": "markdown",
   "metadata": {},
   "source": [
    "### 2.  TABLA DE HIPERPARAMETROS\n"
   ]
  },
  {
   "cell_type": "code",
   "execution_count": 24,
   "metadata": {},
   "outputs": [
    {
     "name": "stdout",
     "output_type": "stream",
     "text": [
      "    Epocas  Capas  Neuronas  Dropout Funcn act Funcn optm  Lrng rate  Accuracy\n",
      "1        5      2       512      0.2      ReLu       Adam      0.001  98.1299%\n",
      "2       10      3       512      0.2      ReLu       Adam      0.010  96.2800%\n",
      "3       10      3       512      0.2      ReLu       Adam      0.001  97.2500%\n",
      "4       10      3       512      0.4      ReLu       Adam      0.001  98.2700%\n",
      "5       15      3       512      0.4   Sigmoid       Adam      0.001  98.3900%\n",
      "6       15      3       512      0.4   Sigmoid        SGD      0.001  98.3900%\n",
      "7       15      3       512      0.4      Tanh       Adam      0.001  59.5200%\n",
      "8       15      5       256      0.3      Tanh        SGD      0.001  88.9900%\n",
      "9       15      5       256      0.3      ReLu        SGD      0.001  68.3100%\n",
      "10      15      5       256      0.3      ReLu       Adam      0.001  97.9200%\n"
     ]
    }
   ],
   "source": [
    "import pandas as pd\n",
    "data = pd.read_table(\"tabla.txt\", header=None, names=[\"Epocas\", \"Capas\", \"Neuronas\", \"Dropout\", \"Funcn act\", \"Funcn optm\", \"Lrng rate\", \"Accuracy\"])\n",
    "# Ajustar el ancho de las columnas\n",
    "print(data)"
   ]
  },
  {
   "cell_type": "markdown",
   "metadata": {},
   "source": [
    "### 3. OBSERVACIONES SOBRE AJUSTE DE  HIPERMARAMETROS\n"
   ]
  },
  {
   "cell_type": "markdown",
   "metadata": {},
   "source": [
    "1. En el segundo ajuste, al incrementar la tasa de aprendizaje de 0.001 a 0.01, no se observa un progreso evidente en el aprendizaje. Esto se refleja en la imagen donde los valores de pérdida y precisión no presentan variaciones significativas a lo largo de todas las épocas, desde la primera hasta la última. Este estancamiento indica que el aumento en la tasa de aprendizaje no ha contribuido de manera positiva al rendimiento del modelo, sugiriendo la necesidad de considerar otros ajustes.\n",
    "\n",
    "![](dos.PNG)"
   ]
  },
  {
   "cell_type": "markdown",
   "metadata": {},
   "source": [
    "2. En el quinto ajuste, al emplear la función de activación sigmoide y aumentar el número de épocas a 15, se evidenció un pequeño fenómeno de sobreajuste en los resultados de la gráfica. Se observa que los valores de pérdida y precisión mejoran de manera más significativa para los datos de entrenamiento en comparación con los datos de validación.\n",
    "\n",
    "![](cinco.PNG)"
   ]
  },
  {
   "cell_type": "markdown",
   "metadata": {},
   "source": [
    "3. En el séptimo ajuste, se exploró el uso de la función de activación tangente hiperbólica (tanh) en conjunto con el optimizador Adam. Sin embargo, los resultados obtenidos no fueron favorables, como se evidencia en la gráfica de entrenamiento. La precisión alcanzada durante el entrenamiento se sitúa alrededor de 0.6, mientras que en el conjunto de prueba es de aproximadamente 0.59. Estos valores sugieren que la combinación de tanh y Adam puede no ser adecuada para este escenario específico.\n",
    "\n",
    "![](siete.PNG)"
   ]
  },
  {
   "cell_type": "markdown",
   "metadata": {},
   "source": [
    "4. En el octavo ajuste, se implementó la función de activación tanh en conjunto con el optimizador de descenso de gradiente estocástico (SGD). Este ajuste resultó en una mejora en la precisión del conjunto de entrenamiento en comparación con la configuración anterior que utilizaba Adam. Además, al observar la gráfica de entrenamiento, se aprecia un ligero fenómeno de underfitting.\n",
    "\n",
    "![](oscho.PNG)"
   ]
  },
  {
   "cell_type": "code",
   "execution_count": null,
   "metadata": {},
   "outputs": [],
   "source": []
  }
 ],
 "metadata": {
  "kernelspec": {
   "display_name": "Python 3 (ipykernel)",
   "language": "python",
   "name": "python3"
  },
  "language_info": {
   "codemirror_mode": {
    "name": "ipython",
    "version": 3
   },
   "file_extension": ".py",
   "mimetype": "text/x-python",
   "name": "python",
   "nbconvert_exporter": "python",
   "pygments_lexer": "ipython3",
   "version": "3.11.4"
  }
 },
 "nbformat": 4,
 "nbformat_minor": 4
}
