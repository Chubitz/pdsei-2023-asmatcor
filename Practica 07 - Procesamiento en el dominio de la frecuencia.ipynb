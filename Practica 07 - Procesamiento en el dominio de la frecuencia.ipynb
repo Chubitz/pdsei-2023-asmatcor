{
 "cells": [
  {
   "cell_type": "markdown",
   "metadata": {
    "id": "dkvEn5AtgHNT"
   },
   "source": [
    "**ESCUELA DE INGENIERÍA MECATRÓNICA**\n",
    "\n",
    "## `PROCESAMIENTO DIGITAL DE SEÑALES E IMÁGENES`\n",
    "\n",
    "### `Docente: Ms. Ing. Emerson Maximo Asto Rodriguez`\n",
    "\n",
    "###  Alumnos: \n",
    "    Asmat Córdova Fernando José\n",
    "    Gonzales Leiva Diego André\n",
    "    Herrera Hurtado Jose Ernesto\n",
    "    \n",
    "### Práctica: Procesamiento en el dominio de la frecuencia\n",
    "\n",
    "\n"
   ]
  },
  {
   "cell_type": "code",
   "execution_count": 3,
   "metadata": {
    "ExecuteTime": {
     "end_time": "2021-08-08T13:24:39.226809Z",
     "start_time": "2021-08-08T13:24:37.757343Z"
    },
    "id": "tvIa8dh7gHNe"
   },
   "outputs": [],
   "source": [
    "import numpy as np\n",
    "import cv2\n",
    "import matplotlib.pyplot as plt"
   ]
  },
  {
   "cell_type": "markdown",
   "metadata": {
    "id": "BTQWcq3HgHNc"
   },
   "source": [
    "### 1. Revise e implemente la interfaz basandose en el snippet.\n"
   ]
  },
  {
   "cell_type": "code",
   "execution_count": 13,
   "metadata": {},
   "outputs": [],
   "source": [
    "import tkinter as tk\n",
    "from PIL import Image, ImageTk\n",
    "import numpy as np\n",
    "import cv2\n",
    "\n",
    "def escalar_imagen(image, max_width):\n",
    "    original_height, original_width = image.shape\n",
    "    ratio = max_width / original_width\n",
    "    height = int(original_height * ratio)\n",
    "    return cv2.resize(image, (max_width, height))\n",
    "\n",
    "def mostrar_imagen(image, label, max_width):\n",
    "    imagen_resized = escalar_imagen(image, max_width)\n",
    "    imagen_tk = ImageTk.PhotoImage(image=Image.fromarray(imagen_resized))\n",
    "    label.config(image=imagen_tk)\n",
    "    label.image = imagen_tk\n",
    "\n",
    "def actualizar_filtro(valor):\n",
    "    mostrar_imagen(img, label_matriz, 300)\n",
    "    mostrar_imagen(img, label_g_real, 300)\n",
    "\n",
    "image_path = \"emma.jpg\"  # Ruta de la imagen a mostrar\n",
    "img = cv2.imread(image_path, 0)\n",
    "\n",
    "ventana = tk.Toplevel()\n",
    "ventana.title(\"Mostrar Imagen y Matriz con Tkinter\")\n",
    "\n",
    "label_imagen = tk.Label(ventana)\n",
    "mostrar_imagen(img, label_imagen, 300)\n",
    "label_imagen.grid(row=0, column=0, padx=10, pady=10)\n",
    "\n",
    "label_matriz = tk.Label(ventana)\n",
    "label_matriz.grid(row=0, column=1, padx=10, pady=10)\n",
    "\n",
    "label_g_real = tk.Label(ventana)\n",
    "label_g_real.grid(row=0, column=2, padx=10, pady=10)\n",
    "\n",
    "slider_n = tk.Scale(ventana, from_=1, to=20, orient=tk.HORIZONTAL,\n",
    "                    label=\"Valor de n\", command=actualizar_filtro)\n",
    "slider_n.set(2)\n",
    "slider_n.grid(row=1, column=0, columnspan=3, pady=10)\n",
    "\n",
    "ventana.mainloop()\n"
   ]
  },
  {
   "cell_type": "markdown",
   "metadata": {
    "id": "BTQWcq3HgHNc"
   },
   "source": [
    "### 2. Implemente un algoritmo que le permita tener una interfaz con un slider para controlar el nivel de suavizado de una imagen. El slider controlara el tamaño del filtro frecuencia que se aplicará. Puede aplicar cualquiera de los filtros pasabajos mostrados. Se debe poder ver la imagen original, el filtro frecuencial aplicado y el resultado.\n"
   ]
  },
  {
   "cell_type": "code",
   "execution_count": 45,
   "metadata": {},
   "outputs": [],
   "source": [
    "image_path = \"emma.jpg\"  # Ruta de la imagen a mostrar\n",
    "img = cv2.imread(image_path, 0)\n",
    "\n",
    "valor_slider_n = 0\n",
    "\n",
    "\n",
    "##\n",
    "def filtro_pasabajo(valor):\n",
    "    global valor_slider_n\n",
    "    valor_slider_n = slider_n.get()/150\n",
    "##\n",
    "    fil, col = img.shape\n",
    "\n",
    "    img_padded = np.pad(img,((0,fil),(0,col)),'constant',constant_values=((0, 0),(0,0)))\n",
    "\n",
    "    f, c = np.ogrid[0:2*fil,0:2*col]\n",
    "\n",
    "    H = ((f-fil)**2 + (c-col)**2) <=  (valor_slider_n*fil)**2\n",
    "    H_pb_ideal = np.float32(H)\n",
    "    \n",
    "    ##print(H_pb_ideal.mean())\n",
    "    \n",
    "    img_fft = np.fft.fft2(img_padded)\n",
    "    img_fft_shift = np.fft.fftshift(img_fft)\n",
    "\n",
    "    G_fft = img_fft_shift * H_pb_ideal\n",
    "\n",
    "    G_fft_ishift = np.fft.ifftshift(G_fft)\n",
    "    g = np.fft.ifft2(G_fft_ishift)\n",
    "    g_real = np.real(g)[0:fil, 0:col]\n",
    "    \n",
    "    mostrar_imagen(H_pb_ideal*255, label_matriz, 300)\n",
    "    mostrar_imagen(g_real, label_g_real, 300)\n",
    "###\n",
    "\n",
    "ventana = tk.Toplevel()\n",
    "ventana.title(\"Mostrar Imagen y Matriz con Tkinter\")\n",
    "\n",
    "label_imagen = tk.Label(ventana)\n",
    "mostrar_imagen(img, label_imagen, 300)\n",
    "label_imagen.grid(row=0, column=0, padx=10, pady=10)\n",
    "\n",
    "label_matriz = tk.Label(ventana)\n",
    "label_matriz.grid(row=0, column=1, padx=10, pady=10)\n",
    "\n",
    "label_g_real = tk.Label(ventana)\n",
    "label_g_real.grid(row=0, column=2, padx=10, pady=10)\n",
    "\n",
    "slider_n = tk.Scale(ventana, from_=1, to=20, orient=tk.HORIZONTAL,\n",
    "                    label=\"Intensidad de filtro\", command=filtro_pasabajo)\n",
    "slider_n.set(2)\n",
    "slider_n.grid(row=1, column=0, columnspan=3, pady=10)\n",
    "\n",
    "\n",
    "ventana.mainloop()\n",
    "\n",
    "####\n",
    "\n"
   ]
  },
  {
   "cell_type": "markdown",
   "metadata": {
    "id": "BTQWcq3HgHNc"
   },
   "source": [
    "### 3. Implemente un algoritmo que le permita tener una interfaz para controlar la ganancia y tamaño de un filtro de alto aumento. Se debe poder ver la imagen original, el filtro frecuencial aplicado y el resultado.\n"
   ]
  },
  {
   "cell_type": "code",
   "execution_count": null,
   "metadata": {},
   "outputs": [],
   "source": [
    "image_path = \"emma.jpg\"  # Ruta de la imagen a mostrar\n",
    "img = cv2.imread(image_path, 0)\n",
    "\n",
    "valor_slider_n = 0\n",
    "valor_slider_a = 0\n",
    "\n",
    "##\n",
    "def filtro_pasaalto(valor):\n",
    "    \n",
    "    global valor_slider_n\n",
    "    global valor_slider_a\n",
    "    valor_slider_n = slider_n.get()/250\n",
    "    valor_slider_a = slider_a.get()\n",
    "##\n",
    "    fil, col = img.shape\n",
    "    img_padded = np.pad(img,((0,fil),(0,col)),'constant',constant_values=((0, 0),(0,0)))\n",
    "\n",
    "    f, c = np.ogrid[0:2*fil,0:2*col]\n",
    "\n",
    "    D =  np.sqrt( (f-fil)**2 + (c-col)**2 )\n",
    "    D0 = (valor_slider_n*fil)\n",
    "    H_pa_gauss = valor_slider_a - np.exp(-(D**2)/(2*(D0**2)))\n",
    "    \n",
    "    img_fft = np.fft.fft2(img_padded)\n",
    "    img_fft_shift = np.fft.fftshift(img_fft)\n",
    "\n",
    "    G_fft = img_fft_shift * H_pa_gauss\n",
    "\n",
    "    G_fft_ishift = np.fft.ifftshift(G_fft)\n",
    "    g = np.fft.ifft2(G_fft_ishift)\n",
    "    g_real = np.real(g)[0:fil, 0:col]\n",
    "\n",
    "    \n",
    "    mostrar_imagen(H_pa_gauss*255, label_matriz, 300)\n",
    "    mostrar_imagen(g_real, label_g_real, 300)\n",
    "###\n",
    "\n",
    "ventana = tk.Toplevel()\n",
    "ventana.title(\"Mostrar Imagen y Matriz con Tkinter\")\n",
    "\n",
    "label_imagen = tk.Label(ventana)\n",
    "mostrar_imagen(img, label_imagen, 300)\n",
    "label_imagen.grid(row=0, column=0, padx=10, pady=10)\n",
    "\n",
    "label_matriz = tk.Label(ventana)\n",
    "label_matriz.grid(row=0, column=1, padx=10, pady=10)\n",
    "\n",
    "label_g_real = tk.Label(ventana)\n",
    "label_g_real.grid(row=0, column=2, padx=10, pady=10)\n",
    "\n",
    "slider_n = tk.Scale(ventana, from_=1, to=20, orient=tk.HORIZONTAL,\n",
    "                    label=\"Intensidad de filtro\", command=filtro_pasaalto)\n",
    "slider_n.set(2)\n",
    "slider_n.grid(row=1, column=0, columnspan=3, pady=10)\n",
    "\n",
    "slider_a = tk.Scale(ventana, from_=1, to=10, orient=tk.HORIZONTAL,\n",
    "                    label=\"Ganancia\", command=filtro_pasaalto)\n",
    "slider_a.set(2)\n",
    "slider_a.grid(row=2, column=0, columnspan=3, pady=10)\n",
    "\n",
    "ventana.mainloop()\n",
    "\n",
    "####"
   ]
  },
  {
   "cell_type": "markdown",
   "metadata": {
    "id": "0K2Nw_-GgHNo"
   },
   "source": [
    "\n",
    "\n"
   ]
  }
 ],
 "metadata": {
  "colab": {
   "name": "Practica 07B - Procesamiento de imágenes en el dominio de la frecuencia.ipynb",
   "provenance": []
  },
  "kernelspec": {
   "display_name": "Python 3",
   "language": "python",
   "name": "python3"
  },
  "language_info": {
   "codemirror_mode": {
    "name": "ipython",
    "version": 3
   },
   "file_extension": ".py",
   "mimetype": "text/x-python",
   "name": "python",
   "nbconvert_exporter": "python",
   "pygments_lexer": "ipython3",
   "version": "3.6.6"
  },
  "varInspector": {
   "cols": {
    "lenName": 16,
    "lenType": 16,
    "lenVar": 40
   },
   "kernels_config": {
    "python": {
     "delete_cmd_postfix": "",
     "delete_cmd_prefix": "del ",
     "library": "var_list.py",
     "varRefreshCmd": "print(var_dic_list())"
    },
    "r": {
     "delete_cmd_postfix": ") ",
     "delete_cmd_prefix": "rm(",
     "library": "var_list.r",
     "varRefreshCmd": "cat(var_dic_list()) "
    }
   },
   "types_to_exclude": [
    "module",
    "function",
    "builtin_function_or_method",
    "instance",
    "_Feature"
   ],
   "window_display": false
  }
 },
 "nbformat": 4,
 "nbformat_minor": 1
}
